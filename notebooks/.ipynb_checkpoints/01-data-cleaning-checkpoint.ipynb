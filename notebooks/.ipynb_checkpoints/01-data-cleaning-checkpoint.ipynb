{
 "cells": [
  {
   "cell_type": "code",
   "execution_count": null,
   "id": "73cf7033",
   "metadata": {
    "vscode": {
     "languageId": "plaintext"
    }
   },
   "outputs": [],
   "source": [
    "# 01-data-cleaning.ipynb\n",
    "\n",
    "import pandas as pd\n",
    "\n",
    "# Load the dataset\n",
    "df = pd.read_csv('../datasets/netflix_titles.csv')\n",
    "\n",
    "# Basic info\n",
    "print(\"Initial shape:\", df.shape)\n",
    "df.head()\n",
    "\n",
    "# Missing values\n",
    "print(\"\\nMissing values:\")\n",
    "print(df.isnull().sum())\n",
    "\n",
    "# Drop rows without title\n",
    "df = df.dropna(subset=['title'])\n",
    "\n",
    "# Fill missing categorical fields\n",
    "df['director'] = df['director'].fillna('Unknown')\n",
    "df['cast'] = df['cast'].fillna('Unknown')\n",
    "df['country'] = df['country'].fillna('Unknown')\n",
    "df['rating'] = df['rating'].fillna('Unrated')\n",
    "\n",
    "# Convert date_added to datetime\n",
    "df['date_added'] = pd.to_datetime(df['date_added'])\n",
    "\n",
    "# Print cleaned data stats\n",
    "print(\"\\nCleaned shape:\", df.shape)\n",
    "\n",
    "# Save cleaned dataset\n",
    "df.to_csv('../datasets/netflix_cleaned.csv', index=False)\n",
    "print(\"Cleaned dataset saved to 'datasets/netflix_cleaned.csv'\")\n"
   ]
  }
 ],
 "metadata": {
  "language_info": {
   "name": "python"
  }
 },
 "nbformat": 4,
 "nbformat_minor": 5
}
